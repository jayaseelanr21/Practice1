{
 "cells": [
  {
   "cell_type": "code",
   "execution_count": 1,
   "id": "fecb23ce",
   "metadata": {},
   "outputs": [],
   "source": [
    "# Benefits of using  modules\n",
    "# Simplicity\n",
    "# Maintainable\n",
    "# Reuseable"
   ]
  },
  {
   "cell_type": "code",
   "execution_count": 2,
   "id": "ed3ab9f2",
   "metadata": {},
   "outputs": [],
   "source": [
    "# Modules\n",
    "# Packages/Libraries"
   ]
  },
  {
   "cell_type": "code",
   "execution_count": 5,
   "id": "d7732aa5",
   "metadata": {},
   "outputs": [],
   "source": [
    "from pandas import read_csv, read_excel"
   ]
  },
  {
   "cell_type": "code",
   "execution_count": 7,
   "id": "ce0fc90b",
   "metadata": {},
   "outputs": [
    {
     "name": "stdout",
     "output_type": "stream",
     "text": [
      "Please enter the pin:1234\n",
      "welcome \n"
     ]
    }
   ],
   "source": [
    "a = int(input('Please enter the pin:'))\n",
    "if a==1234:\n",
    "    print('welcome ')\n",
    "else:\n",
    "    print('try again')"
   ]
  },
  {
   "cell_type": "code",
   "execution_count": 8,
   "id": "ab9eabad",
   "metadata": {},
   "outputs": [
    {
     "name": "stdout",
     "output_type": "stream",
     "text": [
      "Enter how much tickets you want to buy3\n",
      "Please enteryour name:jaya\n",
      "Hello jaya . thanks for visit\n",
      "you want to book 3 . your amount will be 30\n"
     ]
    }
   ],
   "source": [
    "a = int(input('Enter how much tickets you want to buy'))\n",
    "b=input('Please enteryour name:')\n",
    "if a<5:\n",
    "    print(f'Hello {b} . thanks for visit')\n",
    "    print(f'you want to book {a} . your amount will be {a*10}')\n",
    "else:\n",
    "    print(f'hello {b}, you want to buy more than 5 ticets you will get extra 10% discount')"
   ]
  },
  {
   "cell_type": "code",
   "execution_count": 38,
   "id": "111bd87f",
   "metadata": {},
   "outputs": [
    {
     "name": "stdout",
     "output_type": "stream",
     "text": [
      "Enter your name:js\n",
      "Enter the PIN:1234\n",
      "Welcome! js .\n",
      "1. Deposit  2. Withdraw  3. Exit\n",
      "Enter the number:2\n",
      "Enter the amount80\n",
      "Your amount withdrawal successful. The available amount is -9920\n",
      "Do you want withdraw more amount please enter number 1 else enter 3\n",
      "Enter the number:90\n",
      "Thank you for visit\n"
     ]
    }
   ],
   "source": [
    "a = input('Enter your name:')\n",
    "b = int(input('Enter the PIN:'))\n",
    "c = 10000\n",
    "while b==1234:\n",
    "    print(f'Welcome! {a} .')\n",
    "    print('1. Deposit  2. Withdraw  3. Exit')\n",
    "    d =int(input('Enter the number:'))\n",
    "    if d==1:\n",
    "        e= int(input('Enter the amount:'))\n",
    "        print(f'Your amount has been credited. The available amount is {e+c}')\n",
    "        print('Do you want add extra amount please enter number 1 else enter 3')\n",
    "        d =int(input('Enter the number:'))\n",
    "        while d ==1:\n",
    "            e= int(input('Enter the amount:'))\n",
    "            print(f'Your amount has been credited. The available amount is {e+c}')\n",
    "            print('Do you want add extra amount please enter number 1 else enter 3')\n",
    "            d =int(input('Enter the number:'))\n",
    "        else:\n",
    "            print('Thank you for visit')\n",
    "            break\n",
    "            \n",
    "    if d==2:\n",
    "        f=int(input('Enter the amount'))\n",
    "        print(f'Your amount withdrawal successful. The available amount is {f-c}')\n",
    "        print('Do you want withdraw more amount please enter number 1 else enter 3')\n",
    "        d =int(input('Enter the number:'))\n",
    "        while d==2:\n",
    "            f=int(input('Enter the amount'))\n",
    "            print(f'Your amount withdrawal successful. The available amount is {f-c}')\n",
    "            print('Do you want withdraw more amount please enter number 1 else enter 3')\n",
    "            d =int(input('Enter the number:'))\n",
    "        else:\n",
    "            print('Thank you for visit')\n",
    "            break\n",
    "            \n",
    "    else:\n",
    "        print('Thank you for visit')\n",
    "        break\n",
    "else:\n",
    "    print('Incorrect pin')\n",
    "    b = int(input('Enter the PIN:'))\n",
    "    print('Enter the correct pin')\n",
    "    i=0\n",
    "    while i<=5:\n",
    "        if b!=1234:\n",
    "            b = int(input('Enter the PIN:'))\n",
    "            print('Enter the correct PIN')\n",
    "            i+=1\n",
    "        if b==1234:\n",
    "            while b==1234:\n",
    "                print(f'Welcome! {a} .')\n",
    "                print('1. Deposit  2. Withdraw  3. Exit')\n",
    "                d =int(input('Enter the number:'))\n",
    "                if d==1:\n",
    "                    e= int(input('Enter the amount:'))\n",
    "                    print(f'Your amount has been credited. The available amount is {e+c}')\n",
    "                    print('Do you want add extra amount please enter number 1 else enter 3')\n",
    "                    d =int(input('Enter the number:'))\n",
    "                    while d ==1:\n",
    "                        e= int(input('Enter the amount:'))\n",
    "                        print(f'Your amount has been credited. The available amount is {e+c}')\n",
    "                        print('Do you want add extra amount please enter number 1 else enter 3')\n",
    "                        d =int(input('Enter the number:'))\n",
    "                    else:\n",
    "                        print('Thank you for visit')\n",
    "                        break\n",
    "            \n",
    "                if d==2:\n",
    "                    f=int(input('Enter the amount'))\n",
    "                    print(f'Your amount withdrawal successful. The available amount is {f-c}')\n",
    "                    print('Do you want withdraw more amount please enter number 1 else enter 3')\n",
    "                    d =int(input('Enter the number:'))\n",
    "                    while d==2:\n",
    "                        f=int(input('Enter the amount'))\n",
    "                        print(f'Your amount withdrawal successful. The available amount is {f-c}')\n",
    "                        print('Do you want withdraw more amount please enter number 1 else enter 3')\n",
    "                        d =int(input('Enter the number:'))\n",
    "                    else:\n",
    "                        print('Thank you for visit')\n",
    "                        break\n",
    "            \n",
    "            else:\n",
    "                print('Thank you for visit')\n",
    "                break\n",
    "            break\n",
    "    else:\n",
    "        print('Try again after 24Hrs')\n",
    "        \n",
    "               \n",
    "    "
   ]
  },
  {
   "cell_type": "markdown",
   "id": "90da7f84",
   "metadata": {},
   "source": [
    "# "
   ]
  },
  {
   "cell_type": "code",
   "execution_count": null,
   "id": "7433be50",
   "metadata": {},
   "outputs": [],
   "source": []
  }
 ],
 "metadata": {
  "kernelspec": {
   "display_name": "Python 3 (ipykernel)",
   "language": "python",
   "name": "python3"
  },
  "language_info": {
   "codemirror_mode": {
    "name": "ipython",
    "version": 3
   },
   "file_extension": ".py",
   "mimetype": "text/x-python",
   "name": "python",
   "nbconvert_exporter": "python",
   "pygments_lexer": "ipython3",
   "version": "3.11.4"
  }
 },
 "nbformat": 4,
 "nbformat_minor": 5
}
